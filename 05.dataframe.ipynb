{
 "cells": [
  {
   "cell_type": "code",
   "execution_count": 23,
   "metadata": {},
   "outputs": [],
   "source": [
    "import pandas as pd"
   ]
  },
  {
   "cell_type": "code",
   "execution_count": 24,
   "metadata": {},
   "outputs": [
    {
     "ename": "AttributeError",
     "evalue": "module 'pandas' has no attribute 'index'",
     "output_type": "error",
     "traceback": [
      "\u001b[1;31m---------------------------------------------------------------------------\u001b[0m",
      "\u001b[1;31mAttributeError\u001b[0m                            Traceback (most recent call last)",
      "\u001b[1;32mc:\\Users\\86159\\xuanxiu\\05.dataframe.ipynb 单元格 2\u001b[0m line \u001b[0;36m2\n\u001b[0;32m      <a href='vscode-notebook-cell:/c%3A/Users/86159/xuanxiu/05.dataframe.ipynb#W1sZmlsZQ%3D%3D?line=0'>1</a>\u001b[0m s \u001b[39m=\u001b[39m pd\u001b[39m.\u001b[39mSeries(data\u001b[39m=\u001b[39m[\u001b[39m100\u001b[39m,\u001b[39m'\u001b[39m\u001b[39ma\u001b[39m\u001b[39m'\u001b[39m,{\u001b[39m'\u001b[39m\u001b[39midc1\u001b[39m\u001b[39m'\u001b[39m:\u001b[39m5\u001b[39m}],\n\u001b[1;32m----> <a href='vscode-notebook-cell:/c%3A/Users/86159/xuanxiu/05.dataframe.ipynb#W1sZmlsZQ%3D%3D?line=1'>2</a>\u001b[0m               index\u001b[39m=\u001b[39mpd\u001b[39m.\u001b[39;49mindex([\u001b[39m'\u001b[39m\u001b[39mid1\u001b[39m\u001b[39m'\u001b[39m,\u001b[39m20\u001b[39m,\u001b[39m'\u001b[39m\u001b[39mthird\u001b[39m\u001b[39m'\u001b[39m],name\u001b[39m=\u001b[39m\u001b[39m'\u001b[39m\u001b[39mmy_dix\u001b[39m\u001b[39m'\u001b[39m),\n\u001b[0;32m      <a href='vscode-notebook-cell:/c%3A/Users/86159/xuanxiu/05.dataframe.ipynb#W1sZmlsZQ%3D%3D?line=2'>3</a>\u001b[0m               dtype\u001b[39m=\u001b[39m\u001b[39m'\u001b[39m\u001b[39mobject\u001b[39m\u001b[39m'\u001b[39m,\n\u001b[0;32m      <a href='vscode-notebook-cell:/c%3A/Users/86159/xuanxiu/05.dataframe.ipynb#W1sZmlsZQ%3D%3D?line=3'>4</a>\u001b[0m               name\u001b[39m=\u001b[39m\u001b[39m'\u001b[39m\u001b[39mmy_name\u001b[39m\u001b[39m'\u001b[39m)\n",
      "\u001b[1;31mAttributeError\u001b[0m: module 'pandas' has no attribute 'index'"
     ]
    }
   ],
   "source": [
    "s = pd.Series(data=[100,'a',{'idc1':5}],\n",
    "              index=pd.index(['id1',20,'third'],name='my_dix'),\n",
    "              dtype='object',\n",
    "              name='my_name')"
   ]
  },
  {
   "cell_type": "code",
   "execution_count": null,
   "metadata": {},
   "outputs": [],
   "source": [
    "s2 = pd.Series([100,'a',{'dic1':5}],['Pxxxx',111,'ssss'])"
   ]
  },
  {
   "cell_type": "code",
   "execution_count": null,
   "metadata": {},
   "outputs": [],
   "source": [
    "s2.shape[0]"
   ]
  },
  {
   "cell_type": "code",
   "execution_count": null,
   "metadata": {},
   "outputs": [],
   "source": [
    "d = {\n",
    "    \"英语\":pd.Series([1.0,2.0,3.0],index=[\"a\",\"b\",\"c\"]),\n",
    "    \"语文\":pd.Series([1.0,2.0,3.0,4.0],index=[\"a\",\"b\",\"c\",\"d\"]),\n",
    "    }\n",
    "df = pd.DataFrame(d)"
   ]
  },
  {
   "cell_type": "code",
   "execution_count": null,
   "metadata": {},
   "outputs": [],
   "source": [
    "book = {\n",
    "    '作者':pd.Series(['余华','史铁生','莫言'],index=[\"a\",\"b\",\"c\"]),\n",
    "    '作品名称':pd.Series(['活着','我与地坛','红高粱'],index=[\"a\",\"b\",\"c\"]),\n",
    "}\n",
    "df2 = pd.DataFrame(books)"
   ]
  },
  {
   "cell_type": "code",
   "execution_count": null,
   "metadata": {},
   "outputs": [],
   "source": [
    "b=[1,2,3]"
   ]
  },
  {
   "cell_type": "code",
   "execution_count": null,
   "metadata": {},
   "outputs": [],
   "source": [
    "b = [1:]"
   ]
  },
  {
   "cell_type": "code",
   "execution_count": null,
   "metadata": {},
   "outputs": [],
   "source": [
    "i=df2.index.values"
   ]
  },
  {
   "cell_type": "code",
   "execution_count": null,
   "metadata": {},
   "outputs": [
    {
     "data": {
      "text/html": [
       "<div>\n",
       "<style scoped>\n",
       "    .dataframe tbody tr th:only-of-type {\n",
       "        vertical-align: middle;\n",
       "    }\n",
       "\n",
       "    .dataframe tbody tr th {\n",
       "        vertical-align: top;\n",
       "    }\n",
       "\n",
       "    .dataframe thead th {\n",
       "        text-align: right;\n",
       "    }\n",
       "</style>\n",
       "<table border=\"1\" class=\"dataframe\">\n",
       "  <thead>\n",
       "    <tr style=\"text-align: right;\">\n",
       "      <th></th>\n",
       "      <th>作品名称</th>\n",
       "      <th>作者</th>\n",
       "    </tr>\n",
       "  </thead>\n",
       "  <tbody>\n",
       "    <tr>\n",
       "      <th>a</th>\n",
       "      <td>活着</td>\n",
       "      <td>余华</td>\n",
       "    </tr>\n",
       "    <tr>\n",
       "      <th>b</th>\n",
       "      <td>我与地坛</td>\n",
       "      <td>史铁生</td>\n",
       "    </tr>\n",
       "    <tr>\n",
       "      <th>c</th>\n",
       "      <td>红高粱</td>\n",
       "      <td>莫言</td>\n",
       "    </tr>\n",
       "  </tbody>\n",
       "</table>\n",
       "</div>"
      ],
      "text/plain": [
       "   作品名称   作者\n",
       "a    活着   余华\n",
       "b  我与地坛  史铁生\n",
       "c   红高粱   莫言"
      ]
     },
     "execution_count": 33,
     "metadata": {},
     "output_type": "execute_result"
    }
   ],
   "source": [
    "df2[['作品名称','作者']]"
   ]
  },
  {
   "cell_type": "code",
   "execution_count": null,
   "metadata": {},
   "outputs": [
    {
     "ename": "NameError",
     "evalue": "name 'df2' is not defined",
     "output_type": "error",
     "traceback": [
      "\u001b[1;31m---------------------------------------------------------------------------\u001b[0m",
      "\u001b[1;31mNameError\u001b[0m                                 Traceback (most recent call last)",
      "\u001b[1;32mc:\\Users\\86159\\xuanxiu\\05.dataframe.ipynb 单元格 11\u001b[0m line \u001b[0;36m1\n\u001b[1;32m----> <a href='vscode-notebook-cell:/c%3A/Users/86159/xuanxiu/05.dataframe.ipynb#X16sZmlsZQ%3D%3D?line=0'>1</a>\u001b[0m df2\u001b[39m.\u001b[39mindex\n",
      "\u001b[1;31mNameError\u001b[0m: name 'df2' is not defined"
     ]
    }
   ],
   "source": [
    "df2.index"
   ]
  },
  {
   "cell_type": "code",
   "execution_count": null,
   "metadata": {},
   "outputs": [
    {
     "ename": "TypeError",
     "evalue": "read_csv() missing 1 required positional argument: 'filepath_or_buffer'",
     "output_type": "error",
     "traceback": [
      "\u001b[1;31m---------------------------------------------------------------------------\u001b[0m",
      "\u001b[1;31mTypeError\u001b[0m                                 Traceback (most recent call last)",
      "\u001b[1;32mc:\\Users\\86159\\xuanxiu\\05.dataframe.ipynb 单元格 12\u001b[0m line \u001b[0;36m1\n\u001b[1;32m----> <a href='vscode-notebook-cell:/c%3A/Users/86159/xuanxiu/05.dataframe.ipynb#X13sZmlsZQ%3D%3D?line=0'>1</a>\u001b[0m gzmt\u001b[39m=\u001b[39mpd\u001b[39m.\u001b[39;49mread_csv()\n",
      "\u001b[1;31mTypeError\u001b[0m: read_csv() missing 1 required positional argument: 'filepath_or_buffer'"
     ]
    }
   ],
   "source": [
    "gzmt=pd.read_csv()"
   ]
  },
  {
   "cell_type": "code",
   "execution_count": 25,
   "metadata": {},
   "outputs": [],
   "source": [
    "import pandas as pd\n",
    "gzmt=pd.read_csv(R'data/600591.csv')"
   ]
  },
  {
   "cell_type": "code",
   "execution_count": null,
   "metadata": {},
   "outputs": [
    {
     "data": {
      "text/plain": [
       "1"
      ]
     },
     "execution_count": 20,
     "metadata": {},
     "output_type": "execute_result"
    }
   ],
   "source": [
    "list1=[1,2,3,4]\n",
    "list1[0]"
   ]
  },
  {
   "cell_type": "code",
   "execution_count": 26,
   "metadata": {},
   "outputs": [
    {
     "name": "stdout",
     "output_type": "stream",
     "text": [
      "<class 'pandas.core.frame.DataFrame'>\n",
      "RangeIndex: 4094 entries, 0 to 4093\n",
      "Data columns (total 8 columns):\n",
      " #   Column      Non-Null Count  Dtype  \n",
      "---  ------      --------------  -----  \n",
      " 0   day         4094 non-null   object \n",
      " 1   STOCK_CODE  4094 non-null   int64  \n",
      " 2   open        4094 non-null   float64\n",
      " 3   close       4094 non-null   float64\n",
      " 4   maximum     4094 non-null   float64\n",
      " 5   minimum     4094 non-null   float64\n",
      " 6   volume      4094 non-null   int64  \n",
      " 7   TURNOVER    4094 non-null   int64  \n",
      "dtypes: float64(4), int64(3), object(1)\n",
      "memory usage: 256.0+ KB\n"
     ]
    }
   ],
   "source": [
    "gzmt.info()"
   ]
  },
  {
   "cell_type": "code",
   "execution_count": 27,
   "metadata": {},
   "outputs": [
    {
     "data": {
      "text/html": [
       "<div>\n",
       "<style scoped>\n",
       "    .dataframe tbody tr th:only-of-type {\n",
       "        vertical-align: middle;\n",
       "    }\n",
       "\n",
       "    .dataframe tbody tr th {\n",
       "        vertical-align: top;\n",
       "    }\n",
       "\n",
       "    .dataframe thead th {\n",
       "        text-align: right;\n",
       "    }\n",
       "</style>\n",
       "<table border=\"1\" class=\"dataframe\">\n",
       "  <thead>\n",
       "    <tr style=\"text-align: right;\">\n",
       "      <th></th>\n",
       "      <th>STOCK_CODE</th>\n",
       "      <th>open</th>\n",
       "      <th>close</th>\n",
       "      <th>maximum</th>\n",
       "      <th>minimum</th>\n",
       "      <th>volume</th>\n",
       "      <th>TURNOVER</th>\n",
       "    </tr>\n",
       "  </thead>\n",
       "  <tbody>\n",
       "    <tr>\n",
       "      <th>count</th>\n",
       "      <td>4094.0</td>\n",
       "      <td>4094.000000</td>\n",
       "      <td>4094.000000</td>\n",
       "      <td>4094.000000</td>\n",
       "      <td>4094.000000</td>\n",
       "      <td>4094.000000</td>\n",
       "      <td>4.094000e+03</td>\n",
       "    </tr>\n",
       "    <tr>\n",
       "      <th>mean</th>\n",
       "      <td>6005191.0</td>\n",
       "      <td>182.161910</td>\n",
       "      <td>182.435230</td>\n",
       "      <td>184.879680</td>\n",
       "      <td>179.801353</td>\n",
       "      <td>27092.525892</td>\n",
       "      <td>6.487986e+08</td>\n",
       "    </tr>\n",
       "    <tr>\n",
       "      <th>std</th>\n",
       "      <td>0.0</td>\n",
       "      <td>165.857882</td>\n",
       "      <td>165.994905</td>\n",
       "      <td>168.082099</td>\n",
       "      <td>163.752065</td>\n",
       "      <td>24623.472099</td>\n",
       "      <td>9.550262e+08</td>\n",
       "    </tr>\n",
       "    <tr>\n",
       "      <th>min</th>\n",
       "      <td>6005191.0</td>\n",
       "      <td>20.900000</td>\n",
       "      <td>20.880000</td>\n",
       "      <td>21.000000</td>\n",
       "      <td>20.710000</td>\n",
       "      <td>238.000000</td>\n",
       "      <td>1.421413e+06</td>\n",
       "    </tr>\n",
       "    <tr>\n",
       "      <th>25%</th>\n",
       "      <td>6005191.0</td>\n",
       "      <td>47.405000</td>\n",
       "      <td>47.482500</td>\n",
       "      <td>48.222500</td>\n",
       "      <td>46.705000</td>\n",
       "      <td>10186.750000</td>\n",
       "      <td>6.203505e+07</td>\n",
       "    </tr>\n",
       "    <tr>\n",
       "      <th>50%</th>\n",
       "      <td>6005191.0</td>\n",
       "      <td>159.930000</td>\n",
       "      <td>159.980000</td>\n",
       "      <td>161.910000</td>\n",
       "      <td>157.875000</td>\n",
       "      <td>22491.000000</td>\n",
       "      <td>3.727192e+08</td>\n",
       "    </tr>\n",
       "    <tr>\n",
       "      <th>75%</th>\n",
       "      <td>6005191.0</td>\n",
       "      <td>208.500000</td>\n",
       "      <td>209.457500</td>\n",
       "      <td>212.175000</td>\n",
       "      <td>205.945000</td>\n",
       "      <td>36759.500000</td>\n",
       "      <td>7.486596e+08</td>\n",
       "    </tr>\n",
       "    <tr>\n",
       "      <th>max</th>\n",
       "      <td>6005191.0</td>\n",
       "      <td>800.000000</td>\n",
       "      <td>799.190000</td>\n",
       "      <td>803.500000</td>\n",
       "      <td>788.880000</td>\n",
       "      <td>406318.000000</td>\n",
       "      <td>1.066339e+10</td>\n",
       "    </tr>\n",
       "  </tbody>\n",
       "</table>\n",
       "</div>"
      ],
      "text/plain": [
       "       STOCK_CODE         open        close      maximum      minimum  \\\n",
       "count      4094.0  4094.000000  4094.000000  4094.000000  4094.000000   \n",
       "mean    6005191.0   182.161910   182.435230   184.879680   179.801353   \n",
       "std           0.0   165.857882   165.994905   168.082099   163.752065   \n",
       "min     6005191.0    20.900000    20.880000    21.000000    20.710000   \n",
       "25%     6005191.0    47.405000    47.482500    48.222500    46.705000   \n",
       "50%     6005191.0   159.930000   159.980000   161.910000   157.875000   \n",
       "75%     6005191.0   208.500000   209.457500   212.175000   205.945000   \n",
       "max     6005191.0   800.000000   799.190000   803.500000   788.880000   \n",
       "\n",
       "              volume      TURNOVER  \n",
       "count    4094.000000  4.094000e+03  \n",
       "mean    27092.525892  6.487986e+08  \n",
       "std     24623.472099  9.550262e+08  \n",
       "min       238.000000  1.421413e+06  \n",
       "25%     10186.750000  6.203505e+07  \n",
       "50%     22491.000000  3.727192e+08  \n",
       "75%     36759.500000  7.486596e+08  \n",
       "max    406318.000000  1.066339e+10  "
      ]
     },
     "execution_count": 27,
     "metadata": {},
     "output_type": "execute_result"
    }
   ],
   "source": [
    "gzmt.describe()"
   ]
  },
  {
   "cell_type": "code",
   "execution_count": 29,
   "metadata": {},
   "outputs": [
    {
     "data": {
      "text/html": [
       "<div>\n",
       "<style scoped>\n",
       "    .dataframe tbody tr th:only-of-type {\n",
       "        vertical-align: middle;\n",
       "    }\n",
       "\n",
       "    .dataframe tbody tr th {\n",
       "        vertical-align: top;\n",
       "    }\n",
       "\n",
       "    .dataframe thead th {\n",
       "        text-align: right;\n",
       "    }\n",
       "</style>\n",
       "<table border=\"1\" class=\"dataframe\">\n",
       "  <thead>\n",
       "    <tr style=\"text-align: right;\">\n",
       "      <th></th>\n",
       "      <th>open</th>\n",
       "      <th>close</th>\n",
       "    </tr>\n",
       "  </thead>\n",
       "  <tbody>\n",
       "    <tr>\n",
       "      <th>count</th>\n",
       "      <td>4094.000000</td>\n",
       "      <td>4094.000000</td>\n",
       "    </tr>\n",
       "    <tr>\n",
       "      <th>mean</th>\n",
       "      <td>182.161910</td>\n",
       "      <td>182.435230</td>\n",
       "    </tr>\n",
       "    <tr>\n",
       "      <th>std</th>\n",
       "      <td>165.857882</td>\n",
       "      <td>165.994905</td>\n",
       "    </tr>\n",
       "    <tr>\n",
       "      <th>min</th>\n",
       "      <td>20.900000</td>\n",
       "      <td>20.880000</td>\n",
       "    </tr>\n",
       "    <tr>\n",
       "      <th>25%</th>\n",
       "      <td>47.405000</td>\n",
       "      <td>47.482500</td>\n",
       "    </tr>\n",
       "    <tr>\n",
       "      <th>50%</th>\n",
       "      <td>159.930000</td>\n",
       "      <td>159.980000</td>\n",
       "    </tr>\n",
       "    <tr>\n",
       "      <th>75%</th>\n",
       "      <td>208.500000</td>\n",
       "      <td>209.457500</td>\n",
       "    </tr>\n",
       "    <tr>\n",
       "      <th>max</th>\n",
       "      <td>800.000000</td>\n",
       "      <td>799.190000</td>\n",
       "    </tr>\n",
       "  </tbody>\n",
       "</table>\n",
       "</div>"
      ],
      "text/plain": [
       "              open        close\n",
       "count  4094.000000  4094.000000\n",
       "mean    182.161910   182.435230\n",
       "std     165.857882   165.994905\n",
       "min      20.900000    20.880000\n",
       "25%      47.405000    47.482500\n",
       "50%     159.930000   159.980000\n",
       "75%     208.500000   209.457500\n",
       "max     800.000000   799.190000"
      ]
     },
     "execution_count": 29,
     "metadata": {},
     "output_type": "execute_result"
    }
   ],
   "source": [
    "gzmt[['open','close']].describe()"
   ]
  },
  {
   "cell_type": "code",
   "execution_count": 30,
   "metadata": {},
   "outputs": [],
   "source": [
    "result=gzmt['open'].unique()"
   ]
  },
  {
   "cell_type": "code",
   "execution_count": 32,
   "metadata": {},
   "outputs": [],
   "source": [
    "result2=gzmt.close.value_counts()"
   ]
  },
  {
   "cell_type": "code",
   "execution_count": 31,
   "metadata": {},
   "outputs": [
    {
     "data": {
      "text/plain": [
       "close\n",
       "38.00     5\n",
       "162.00    4\n",
       "35.05     4\n",
       "34.73     4\n",
       "38.50     4\n",
       "         ..\n",
       "120.82    1\n",
       "132.90    1\n",
       "132.84    1\n",
       "120.31    1\n",
       "599.90    1\n",
       "Name: count, Length: 3666, dtype: int64"
      ]
     },
     "execution_count": 31,
     "metadata": {},
     "output_type": "execute_result"
    }
   ],
   "source": [
    "gzmt.close.value_counts()"
   ]
  },
  {
   "cell_type": "code",
   "execution_count": null,
   "metadata": {},
   "outputs": [],
   "source": []
  }
 ],
 "metadata": {
  "kernelspec": {
   "display_name": "Python 3",
   "language": "python",
   "name": "python3"
  },
  "language_info": {
   "codemirror_mode": {
    "name": "ipython",
    "version": 3
   },
   "file_extension": ".py",
   "mimetype": "text/x-python",
   "name": "python",
   "nbconvert_exporter": "python",
   "pygments_lexer": "ipython3",
   "version": "3.8.10"
  },
  "orig_nbformat": 4
 },
 "nbformat": 4,
 "nbformat_minor": 2
}
